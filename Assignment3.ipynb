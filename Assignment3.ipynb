{
 "cells": [
  {
   "cell_type": "markdown",
   "metadata": {},
   "source": [
    "# Assignment 3"
   ]
  },
  {
   "cell_type": "markdown",
   "metadata": {},
   "source": [
    "<b>1.1 Write a Python Program to implement your own myreduce() function which works exactly\n",
    "like Python's built-in function reduce()</b>"
   ]
  },
  {
   "cell_type": "code",
   "execution_count": 2,
   "metadata": {},
   "outputs": [
    {
     "name": "stdout",
     "output_type": "stream",
     "text": [
      "Multiplication reduced of mylist is :  1719900\n",
      "Verified multiplication of mylist with reduce function : 1719900\n",
      "Verified multiplication of mylist is :  1719900\n"
     ]
    }
   ],
   "source": [
    "\"\"\"Reduce function will only work on  sequnse so we take mutable sequense as one list as mylist here \n",
    "    and we will reduce it to one number\"\"\"\n",
    "\n",
    "def myreduce():\n",
    "    mylist=[1,5,78,98,45]\n",
    "    mul=1\n",
    "    for i in mylist:    \n",
    "        mul=mul*i \n",
    "    print (\"Multiplication reduced of mylist is : \",mul)\n",
    "myreduce()\n",
    "\n",
    "#crossverification with reduce function\n",
    "\n",
    "from functools import reduce\n",
    "mylist1=[1,5,78,98,45]\n",
    "ver_mul=reduce(lambda x,y: x*y,mylist1)\n",
    "print(\"Verified multiplication of mylist with reduce function :\",ver_mul)\n",
    "\n",
    "#crossverification with multiplication\n",
    "print(\"Verified multiplication of mylist is : \" ,1*5*78*98*45)"
   ]
  },
  {
   "cell_type": "markdown",
   "metadata": {},
   "source": [
    "\n",
    "<b>1.2 Write a Python program to implement your own myfilter() function which works exactly\n",
    "like Python's built-in function filter()<b>"
   ]
  },
  {
   "cell_type": "code",
   "execution_count": 3,
   "metadata": {},
   "outputs": [
    {
     "data": {
      "text/plain": [
       "[100, 10, 55, 75]"
      ]
     },
     "execution_count": 3,
     "metadata": {},
     "output_type": "execute_result"
    }
   ],
   "source": [
    "\"\"\"Filter function will only work on  sequnse so we take mutable sequense , we have taken one list as mylist here \n",
    "    and we will filter out numbers which are divisible by 5\"\"\"\n",
    "#input List \n",
    "mylist=[100,21,3,54,48,10,54,55,56,57,58,1,11,7,41,2,75,79,83,93,97]\n",
    "\n",
    "#We are filtering out the number from input list which are only divisible by 5\n",
    "\n",
    "def myfilter():\n",
    "    prime_num=[]\n",
    "    for num in mylist:\n",
    "            if(num%5 == 0 ):\n",
    "                prime_num.append(num)\n",
    "    return prime_num\n",
    "\n",
    "myfilter()"
   ]
  },
  {
   "cell_type": "code",
   "execution_count": 4,
   "metadata": {},
   "outputs": [
    {
     "name": "stdout",
     "output_type": "stream",
     "text": [
      "[100, 10, 55, 75]\n"
     ]
    }
   ],
   "source": [
    "'''we can impliment same function using lambda anb filter function (We are filtering out the number from input list \n",
    "which are only divisible by 5)'''\n",
    "\n",
    "#input List \n",
    "mylist=[100,21,3,54,48,10,54,55,56,57,58,1,11,7,41,2,75,79,83,93,97\n",
    "       ]\n",
    "filtered=filter(lambda x : True if (x%5 == 0) else False,mylist)\n",
    "print(list(filtered))"
   ]
  },
  {
   "cell_type": "markdown",
   "metadata": {},
   "source": [
    "<b>2) Implement List comprehensions to produce the following lists.\n",
    "\n",
    "Write List comprehensions to produce the following Lists\n",
    "\n",
    "i)     ['x', 'xx', 'xxx', 'xxxx', 'y', 'yy', 'yyy', 'yyyy', 'z', 'zz', 'zzz', 'zzzz'] \n",
    "\n",
    "ii)    ['x', 'y', 'z', 'xx', 'yy', 'zz', 'xxx', 'yyy', 'zzz', 'xxxx', 'yyyy', 'zzzz'] \n",
    "\n",
    "iii)   [[2], [3], [4], [3], [4], [5], [4], [5], [6]] \n",
    "\n",
    "iV)    [[2, 3, 4, 5], [3, 4, 5, 6], [4, 5, 6, 7], [5, 6, 7, 8]] \n",
    "\n",
    "v)     [(1, 1), (2, 1), (3, 1), (1, 2), (2, 2), (3, 2), (1, 3), (2, 3), (3, 3)] <b>"
   ]
  },
  {
   "cell_type": "code",
   "execution_count": 5,
   "metadata": {},
   "outputs": [
    {
     "name": "stdout",
     "output_type": "stream",
     "text": [
      "['x', 'xx', 'xxx', 'xxxx', 'y', 'yy', 'yyy', 'yyyy', 'z', 'zz', 'zzz', 'zzzz']\n"
     ]
    }
   ],
   "source": [
    "input_list=['x','y','z'] \n",
    "output_list=[item*i for item in input_list for i in  range(1,5) ]\n",
    "print (output_list)"
   ]
  },
  {
   "cell_type": "code",
   "execution_count": 6,
   "metadata": {},
   "outputs": [
    {
     "name": "stdout",
     "output_type": "stream",
     "text": [
      "['x', 'y', 'z', 'xx', 'yy', 'zz', 'xxx', 'yyy', 'zzz', 'xxxx', 'yyyy', 'zzzz']\n"
     ]
    }
   ],
   "source": [
    "input_list=['x','y','z']\n",
    "output_list1=[ i*num  for num in range(1,5) for i in input_list]\n",
    "print(output_list1)"
   ]
  },
  {
   "cell_type": "code",
   "execution_count": 7,
   "metadata": {},
   "outputs": [
    {
     "name": "stdout",
     "output_type": "stream",
     "text": [
      "[[2], [3], [4], [3], [4], [5], [4], [5], [6]]\n"
     ]
    }
   ],
   "source": [
    "input_list=[2,3,4]\n",
    "output_list1=[ [num+i]  for num in input_list for i in range(0,3)]\n",
    "print(output_list1)"
   ]
  },
  {
   "cell_type": "code",
   "execution_count": 8,
   "metadata": {},
   "outputs": [
    {
     "name": "stdout",
     "output_type": "stream",
     "text": [
      "[[2, 3, 4, 5], [3, 4, 5, 6], [4, 5, 6, 7], [5, 6, 7, 8]]\n"
     ]
    }
   ],
   "source": [
    "input_list=[2,3,4,5]\n",
    "output_list1=[ [num+i  for num in input_list] for i in range(0,4)]\n",
    "print(output_list1)"
   ]
  },
  {
   "cell_type": "code",
   "execution_count": 9,
   "metadata": {},
   "outputs": [
    {
     "name": "stdout",
     "output_type": "stream",
     "text": [
      "[(1, 1), (1, 2), (1, 3), (2, 1), (2, 2), (2, 3), (3, 1), (3, 2), (3, 3)]\n"
     ]
    }
   ],
   "source": [
    "output_list1=[ (j,i)  for j in range(1,4) for i in range(1,4)]\n",
    "print(output_list1)"
   ]
  },
  {
   "cell_type": "code",
   "execution_count": null,
   "metadata": {},
   "outputs": [],
   "source": []
  }
 ],
 "metadata": {
  "kernelspec": {
   "display_name": "Python 3",
   "language": "python",
   "name": "python3"
  },
  "language_info": {
   "codemirror_mode": {
    "name": "ipython",
    "version": 3
   },
   "file_extension": ".py",
   "mimetype": "text/x-python",
   "name": "python",
   "nbconvert_exporter": "python",
   "pygments_lexer": "ipython3",
   "version": "3.7.4"
  }
 },
 "nbformat": 4,
 "nbformat_minor": 2
}
